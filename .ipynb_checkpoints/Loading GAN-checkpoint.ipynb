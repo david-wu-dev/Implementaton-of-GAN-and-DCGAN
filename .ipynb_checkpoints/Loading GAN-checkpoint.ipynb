{
 "cells": [
  {
   "cell_type": "code",
   "execution_count": null,
   "metadata": {},
   "outputs": [],
   "source": [
    "import numpy as np\n",
    "\n",
    "import torch\n",
    "import torch.nn as nn\n",
    "import torch.nn.functional as F\n",
    "import torchvision.utils as vutils\n",
    "\n",
    "import matplotlib.pyplot as plt"
   ]
  },
  {
   "cell_type": "markdown",
   "metadata": {},
   "source": [
    "**If error from loading models, need updated version of pytorch"
   ]
  },
  {
   "cell_type": "code",
   "execution_count": null,
   "metadata": {},
   "outputs": [],
   "source": [
    "print(torch.__version__)"
   ]
  },
  {
   "cell_type": "markdown",
   "metadata": {},
   "source": [
    "**Load one of the trained generator models"
   ]
  },
  {
   "cell_type": "code",
   "execution_count": null,
   "metadata": {},
   "outputs": [],
   "source": [
    "class Generator(nn.Module):\n",
    "  def __init__(self):\n",
    "    super(Generator, self).__init__()\n",
    "    self.fc1 = nn.Linear(100, 256)\n",
    "    self.fc2 = nn.Linear(256, 512)\n",
    "    self.fc3 = nn.Linear(512, 1024)\n",
    "    self.fc4 = nn.Linear(1024, 784)\n",
    "\n",
    "  def forward(self, x):\n",
    "    x = F.relu(self.fc1(x))\n",
    "    x = F.relu(self.fc2(x))\n",
    "    x = F.relu(self.fc3(x))\n",
    "    x = torch.tanh(self.fc4(x)).reshape(-1, 1, 28, 28)\n",
    "    return x\n",
    "\n",
    "device = torch.device('cpu')\n",
    "model = Generator()\n",
    "model.load_state_dict(torch.load('./Results/Trained Models/MNIST Vanilla GAN Generator.pt', map_location=device))"
   ]
  },
  {
   "cell_type": "code",
   "execution_count": null,
   "metadata": {},
   "outputs": [],
   "source": [
    "class Generator(nn.Module):\n",
    "  def __init__(self):\n",
    "    super(Generator, self).__init__()\n",
    "    self.conv1 = nn.ConvTranspose2d(100, 256, kernel_size=7, bias=False)\n",
    "    self.conv2 = nn.ConvTranspose2d(256, 128, kernel_size=4, stride=2, padding=1, bias=False)\n",
    "    self.conv3 = nn.ConvTranspose2d(128, 1, kernel_size=4, stride=2, padding=1, bias=False)\n",
    "    self.batch1 = nn.BatchNorm2d(256)\n",
    "    self.batch2 = nn.BatchNorm2d(128)\n",
    "  \n",
    "  def forward(self, x):\n",
    "    x = F.relu(self.batch1(self.conv1(x.reshape(-1, 100, 1, 1))))\n",
    "    x = F.relu(self.batch2(self.conv2(x)))\n",
    "    x = torch.tanh(self.conv3(x))\n",
    "    return x\n",
    "\n",
    "device = torch.device('cpu')\n",
    "model = Generator()\n",
    "model.load_state_dict(torch.load('./Results/Trained Models/MNIST 2 hidden layer DCGAN Generator.pt', map_location=device))"
   ]
  },
  {
   "cell_type": "code",
   "execution_count": null,
   "metadata": {},
   "outputs": [],
   "source": [
    "class Generator(nn.Module):\n",
    "  def __init__(self):\n",
    "    super(Generator, self).__init__()\n",
    "    self.conv1 = nn.ConvTranspose2d(100, 256, kernel_size=4, bias=False)\n",
    "    self.conv2 = nn.ConvTranspose2d(256, 256, kernel_size=4, stride=2, padding=1, bias=False)\n",
    "    self.conv3 = nn.ConvTranspose2d(256, 128, kernel_size=4, stride=2, padding=1, bias=False)\n",
    "    self.conv4 = nn.ConvTranspose2d(128, 1, kernel_size=4, stride=2, padding=3, bias=False)\n",
    "    self.batch1 = nn.BatchNorm2d(256)\n",
    "    self.batch2 = nn.BatchNorm2d(256)\n",
    "    self.batch3 = nn.BatchNorm2d(128)\n",
    "  \n",
    "  def forward(self, x):\n",
    "    x = F.relu(self.batch1(self.conv1(x.reshape(-1, 100, 1, 1))))\n",
    "    x = F.relu(self.batch2(self.conv2(x)))\n",
    "    x = F.relu(self.batch3(self.conv3(x)))\n",
    "    x = torch.tanh(self.conv4(x))\n",
    "    return x\n",
    "\n",
    "device = torch.device('cpu')\n",
    "model = Generator()\n",
    "model.load_state_dict(torch.load('./Results/Trained Models/MNIST 3 hidden layer DCGAN Generator.pt', map_location=device))"
   ]
  },
  {
   "cell_type": "code",
   "execution_count": null,
   "metadata": {},
   "outputs": [],
   "source": [
    "def show():\n",
    "  noise = torch.rand(100, 100)\n",
    "  real_batch = model(noise).detach()\n",
    "  print(real_batch.shape)\n",
    "  plt.figure(figsize=(10,10))\n",
    "  plt.axis(\"off\")\n",
    "  plt.title(\"Training Images\")\n",
    "  plt.imshow(np.transpose(vutils.make_grid(real_batch.to(device)[:100], nrow=10, padding=2, normalize=True).cpu(),(1,2,0)))\n",
    "\n",
    "show()"
   ]
  }
 ],
 "metadata": {
  "kernelspec": {
   "display_name": "Python 3",
   "language": "python",
   "name": "python3"
  },
  "language_info": {
   "codemirror_mode": {
    "name": "ipython",
    "version": 3
   },
   "file_extension": ".py",
   "mimetype": "text/x-python",
   "name": "python",
   "nbconvert_exporter": "python",
   "pygments_lexer": "ipython3",
   "version": "3.8.5"
  }
 },
 "nbformat": 4,
 "nbformat_minor": 2
}
